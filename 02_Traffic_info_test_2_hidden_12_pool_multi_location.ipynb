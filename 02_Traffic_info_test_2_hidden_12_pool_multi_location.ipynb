{
 "cells": [
  {
   "cell_type": "code",
   "execution_count": 1,
   "metadata": {},
   "outputs": [],
   "source": [
    "%matplotlib inline\n",
    "\"\"\"\n",
    "data source:\n",
    "https://zola.planning.nyc.gov/data#12.31/40.73327/-73.92447\n",
    "https://www1.nyc.gov/site/planning/data-maps/open-data/dwn-pluto-mappluto.page\n",
    "https://sfplanninggis.org/PIM/help.html\n",
    "\"\"\"\n",
    "\n",
    "import os\n",
    "import time\n",
    "import pickle\n",
    "\n",
    "import numpy as np\n",
    "import pandas as pd\n",
    "import matplotlib.pyplot as plt\n",
    "from scipy import ndimage\n",
    "\n",
    "import torch\n",
    "import torch.nn as nn\n",
    "import torch.optim as optim\n",
    "import torch.nn.functional as F\n",
    "\n",
    "from IPython.display import clear_output\n",
    "from datetime import datetime\n",
    "\n",
    "from lib.utils import SamplePool, make_seed, make_circle_masks, get_rand_avail\n",
    "from lib.utils import get_sobel, softmax\n",
    "from lib.NCCAModel2 import NCCAModel2"
   ]
  },
  {
   "cell_type": "code",
   "execution_count": 2,
   "metadata": {},
   "outputs": [
    {
     "name": "stdout",
     "output_type": "stream",
     "text": [
      "(64, 80, 80, 4) (28, 80, 80, 4) (1, 80, 80, 1)\n",
      "(64, 80, 80, 4) (206, 80, 80, 4) (1, 80, 80, 1)\n",
      "(64, 80, 80, 4) (30, 80, 80, 4) (1, 80, 80, 1)\n",
      "(64, 80, 80, 4) (44, 80, 80, 4) (1, 80, 80, 1)\n",
      "(64, 80, 80, 4) (32, 80, 80, 4) (1, 80, 80, 1)\n",
      "(64, 80, 80, 4) (32, 80, 80, 4) (1, 80, 80, 1)\n",
      "(64, 80, 80, 4) (45, 80, 80, 4) (1, 80, 80, 1)\n",
      "(64, 80, 80, 4) (12, 80, 80, 4) (1, 80, 80, 1)\n",
      "(64, 80, 80, 4) (39, 80, 80, 4) (1, 80, 80, 1)\n",
      "(64, 80, 80, 4) (18, 80, 80, 4) (1, 80, 80, 1)\n"
     ]
    }
   ],
   "source": [
    "with open('anchor_loc.pickle', 'rb') as handle:\n",
    "    anchor_loc = pickle.load(handle)\n",
    "\n",
    "root = \"_maps/\"\n",
    "full_size = (100,100)\n",
    "map_size = (80,80)\n",
    "color_map = [(0.5,0.5,0.5),\n",
    "             (0.5,1.0,0.5),\n",
    "             (1.0,1.0,0.5),\n",
    "             (1.0,0.7,0.2),\n",
    "             (1.0,0.5,0.5),\n",
    "             (1.0,0.5,1.0)]\n",
    "\n",
    "################################################################\n",
    "\n",
    "d_trains   = []\n",
    "d_tests    = []\n",
    "alive_maps = []\n",
    "\n",
    "for d_i, obj_name in enumerate(list(anchor_loc.keys())[:10]):\n",
    "\n",
    "    filenames = []\n",
    "    common_index = {}\n",
    "\n",
    "    for filename in os.listdir(root):\n",
    "        if filename[:len(obj_name)]==obj_name:\n",
    "            filenames.append(root+filename)\n",
    "\n",
    "    for filename in filenames:\n",
    "        with open(filename, 'rb') as handle:\n",
    "            map_dict = pickle.load(handle)\n",
    "        for index in map_dict:\n",
    "            try:\n",
    "                tmp = int(map_dict[index]['status'])\n",
    "                if index in common_index:\n",
    "                    common_index[index]+= 1\n",
    "                else:\n",
    "                    common_index[index] = 1\n",
    "            except (TypeError, KeyError):\n",
    "                continue\n",
    "\n",
    "    common_index = [x for x in common_index.keys() if common_index[x]==len(filenames)]\n",
    "\n",
    "    d_train = np.zeros([64, full_size[0], full_size[1], 4])\n",
    "    d_test  = np.zeros([len(filenames)-d_train.shape[0], full_size[0], full_size[1], d_train.shape[-1]])\n",
    "\n",
    "    for i,filename in enumerate(filenames[:d_train.shape[0]]):\n",
    "        with open(filename, 'rb') as handle:\n",
    "            map_dict = pickle.load(handle)\n",
    "            for index in common_index:\n",
    "                try:\n",
    "                    status = min(int(map_dict[index]['status'])-1, 3)\n",
    "                    d_train[i, index[0], index[1]] = np.zeros(d_train.shape[-1])\n",
    "                    d_train[i, index[0], index[1], status] = 1\n",
    "                except (TypeError, KeyError):\n",
    "                    continue\n",
    "\n",
    "    for i,filename in enumerate(filenames[d_train.shape[0]:]):\n",
    "        with open(filename, 'rb') as handle:\n",
    "            map_dict = pickle.load(handle)\n",
    "            for index in common_index:\n",
    "                try:\n",
    "                    status = min(int(map_dict[index]['status'])-1, 3)\n",
    "                    d_test[i, index[0], index[1]] = np.zeros(d_test.shape[-1])\n",
    "                    d_test[i, index[0], index[1], status] = 1\n",
    "                except (TypeError, KeyError):\n",
    "                    continue\n",
    "\n",
    "    alive_map = np.expand_dims(np.expand_dims(np.sum(d_train[0, ...], -1)>0.001, 0), -1)\n",
    "\n",
    "    cut_off = ((full_size[0]-map_size[0])//2, (full_size[1]-map_size[1])//2)\n",
    "    d_train = d_train[:, cut_off[0]:(cut_off[0]+map_size[0]),\n",
    "                      cut_off[1]:(cut_off[1]+map_size[1]), :]\n",
    "    d_test = d_test[:, cut_off[0]:(cut_off[0]+map_size[0]),\n",
    "                    cut_off[1]:(cut_off[1]+map_size[1]), :]\n",
    "    alive_map = alive_map[:, cut_off[0]:(cut_off[0]+map_size[0]),\n",
    "                          cut_off[1]:(cut_off[1]+map_size[1]), :]\n",
    "\n",
    "    print(d_train.shape, d_test.shape, alive_map.shape)\n",
    "    \n",
    "    d_trains.append(d_train)\n",
    "    d_tests.append(d_test)\n",
    "    alive_maps.append(alive_map)"
   ]
  },
  {
   "cell_type": "code",
   "execution_count": 3,
   "metadata": {},
   "outputs": [],
   "source": [
    "DEVICE = torch.device(\"cuda:0\")\n",
    "model_path = \"models/ncca_softmax_multi_traffic.pth\"\n",
    "\n",
    "CHANNEL_N = 16\n",
    "ALPHA_CHANNEL = 4\n",
    "\n",
    "lr = 1e-3\n",
    "lr_gamma = 0.99995\n",
    "betas = (0.5, 0.5)\n",
    "n_epoch = 100000\n",
    "\n",
    "BATCH_SIZE = 10\n",
    "N_STEPS = 128\n",
    "POOL_SIZE = 256\n",
    "CELL_FIRE_RATE = 0.5\n",
    "CALIBRATION = 1.0\n",
    "eps = 1e-3\n",
    "\n",
    "USE_PATTERN_POOL = 1\n",
    "DAMAGE_N = 3\n",
    "TRANS_N = 3"
   ]
  },
  {
   "cell_type": "code",
   "execution_count": 4,
   "metadata": {},
   "outputs": [],
   "source": [
    "valid_masks = []\n",
    "for alive_map in alive_maps:\n",
    "    valid_masks.append(alive_map.astype(bool))\n",
    "valid_masks = np.concatenate(valid_masks, 0)\n",
    "\n",
    "pools_list = []\n",
    "for d_i, d_train in enumerate(d_trains):\n",
    "    pools = []\n",
    "    for _ in range(d_train.shape[0]):\n",
    "        init_coord = get_rand_avail(valid_masks[d_i:(d_i+1)])\n",
    "        seed = make_seed(map_size, CHANNEL_N, np.arange(CHANNEL_N-ALPHA_CHANNEL)+ALPHA_CHANNEL, init_coord)\n",
    "        pools.append(SamplePool(x=np.repeat(seed[None, ...], POOL_SIZE, 0)))\n",
    "    pools_list.append(pools)\n",
    "    \n",
    "my_model = NCCAModel2(CHANNEL_N, ALPHA_CHANNEL, CELL_FIRE_RATE, DEVICE).to(DEVICE)\n",
    "my_model.load_state_dict(torch.load(model_path))\n",
    "for param in my_model.parameters():\n",
    "    param.requires_grad = False"
   ]
  },
  {
   "cell_type": "code",
   "execution_count": 16,
   "metadata": {
    "scrolled": false
   },
   "outputs": [
    {
     "name": "stdout",
     "output_type": "stream",
     "text": [
      "1\n",
      "122\n",
      "7\n",
      "6\n",
      "19\n",
      "27\n",
      "19\n",
      "11\n",
      "22\n",
      "6\n",
      "history generated (129, 10, 80, 80, 16)\n"
     ]
    }
   ],
   "source": [
    "def test(x, target, valid_mask_t, calibration_map, steps):\n",
    "    history = [x.detach().cpu().numpy(),]\n",
    "    for _ in range(steps):\n",
    "        x = my_model(x, valid_mask_t, 1)\n",
    "        h = torch.softmax(x[..., :ALPHA_CHANNEL], -1)\n",
    "        t = target[..., :ALPHA_CHANNEL]\n",
    "        _delta = t*(h-1)\n",
    "        delta = _delta * calibration_map * CALIBRATION\n",
    "        y1 = x[..., :ALPHA_CHANNEL]-delta\n",
    "        \n",
    "        alpha_h = x[..., ALPHA_CHANNEL:(ALPHA_CHANNEL+1)]\n",
    "        y2 = alpha_h - 2 * (alpha_h-valid_mask_t) * calibration_map * CALIBRATION\n",
    "        x = torch.cat((y1,y2,x[..., (ALPHA_CHANNEL+1):]), -1)\n",
    "        history.append(x.detach().cpu().numpy())\n",
    "    return x, history\n",
    "    \n",
    "# 重新选择target\n",
    "calibration_map = make_circle_masks(BATCH_SIZE, map_size[0], map_size[1], rmin=0.5, rmax=0.5)[..., None]\n",
    "calibration_map = torch.from_numpy(calibration_map.astype(np.float32)).to(DEVICE)\n",
    "\n",
    "targets = []\n",
    "# pre_target_i = [-1]*10\n",
    "pre_target_i = [1, 122, 7, 6, 19, 27, 19, 11, 22, 6]\n",
    "target_is = []\n",
    "for d_i in range(10):\n",
    "    if pre_target_i[d_i]<0:\n",
    "        target_i = np.random.randint(d_tests[d_i].shape[0])\n",
    "    else:\n",
    "        target_i = pre_target_i[d_i]\n",
    "    print(target_i)\n",
    "    target_is.append((d_i, target_i))\n",
    "    target = np.concatenate((d_tests[d_i][target_i:target_i+1], valid_masks[d_i:(d_i+1)]), -1)\n",
    "    targets.append(target)\n",
    "targets = np.concatenate(targets, 0).astype(np.float32)\n",
    "targets[..., :-1] += eps\n",
    "targets[..., :-1] /= np.sum(targets[..., :-1], axis=-1, keepdims=True)\n",
    "_target = torch.from_numpy(targets).to(DEVICE)\n",
    "\n",
    "x0 = np.repeat(seed[None, ...], BATCH_SIZE, 0)*0\n",
    "x0 = torch.from_numpy(x0.astype(np.float32)).to(DEVICE)\n",
    "\n",
    "valid_mask_t = valid_masks[[tmp[0] for tmp in target_is]]\n",
    "valid_mask_t = torch.from_numpy(valid_mask_t.astype(np.float32)).to(DEVICE)\n",
    "\n",
    "x, history = test(x0, _target, valid_mask_t, calibration_map, N_STEPS)\n",
    "# x.backward()\n",
    "history = np.array(history)\n",
    "cali_map_numpy = calibration_map.detach().cpu().numpy()\n",
    "print(\"history generated\", history.shape)"
   ]
  },
  {
   "cell_type": "code",
   "execution_count": 17,
   "metadata": {},
   "outputs": [
    {
     "data": {
      "image/png": "[encoded data removed]",
      "text/plain": [
       "<Figure size 1008x432 with 9 Axes>"
      ]
     },
     "metadata": {
      "needs_background": "light"
     },
     "output_type": "display_data"
    },
    {
     "data": {
      "image/png": "[encoded data removed]",
      "text/plain": [
       "<Figure size 1008x432 with 9 Axes>"
      ]
     },
     "metadata": {
      "needs_background": "light"
     },
     "output_type": "display_data"
    },
    {
     "data": {
      "image/png": "[encoded data removed]",
      "text/plain": [
       "<Figure size 1008x432 with 9 Axes>"
      ]
     },
     "metadata": {
      "needs_background": "light"
     },
     "output_type": "display_data"
    },
    {
     "data": {
      "image/png": "[encoded data removed]",
      "text/plain": [
       "<Figure size 1008x432 with 9 Axes>"
      ]
     },
     "metadata": {
      "needs_background": "light"
     },
     "output_type": "display_data"
    },
    {
     "data": {
      "image/png": "[encoded data removed]",
      "text/plain": [
       "<Figure size 1008x432 with 9 Axes>"
      ]
     },
     "metadata": {
      "needs_background": "light"
     },
     "output_type": "display_data"
    },
    {
     "data": {
      "image/png": "[encoded data removed]",
      "text/plain": [
       "<Figure size 1008x432 with 9 Axes>"
      ]
     },
     "metadata": {
      "needs_background": "light"
     },
     "output_type": "display_data"
    },
    {
     "data": {
      "image/png": "[encoded data removed]",
      "text/plain": [
       "<Figure size 1008x432 with 9 Axes>"
      ]
     },
     "metadata": {
      "needs_background": "light"
     },
     "output_type": "display_data"
    },
    {
     "data": {
      "image/png": "[encoded data removed]",
      "text/plain": [
       "<Figure size 1008x432 with 9 Axes>"
      ]
     },
     "metadata": {
      "needs_background": "light"
     },
     "output_type": "display_data"
    },
    {
     "data": {
      "image/png": "[encoded data removed]",
      "text/plain": [
       "<Figure size 1008x432 with 9 Axes>"
      ]
     },
     "metadata": {
      "needs_background": "light"
     },
     "output_type": "display_data"
    },
    {
     "data": {
      "image/png": "[encoded data removed]",
      "text/plain": [
       "<Figure size 1008x432 with 9 Axes>"
      ]
     },
     "metadata": {
      "needs_background": "light"
     },
     "output_type": "display_data"
    }
   ],
   "source": [
    "color_map = [(0.0,0.0,0.0),\n",
    "             (0.5,1.0,0.5),\n",
    "             (1.0,1.0,0.5),\n",
    "             (1.0,0.7,0.2),\n",
    "             (1.0,0.5,0.5)]\n",
    "\n",
    "for history_i in range(10):\n",
    "    history_t = history[:,history_i,...,:(ALPHA_CHANNEL+1)]\n",
    "    targets_t = targets[history_i,...]\n",
    "\n",
    "    map_dict = np.argmax(targets_t[..., :-1], -1)\n",
    "    _map = np.zeros([map_dict.shape[0], map_dict.shape[1], 3])\n",
    "    for i in range(_map.shape[0]):\n",
    "        for j in range(_map.shape[1]):\n",
    "            if targets_t[i,j,-1]>0.1:\n",
    "                _map[i,j] = color_map[map_dict[i,j]+1]\n",
    "\n",
    "    plt.figure(figsize=(14,6))\n",
    "    plt.subplot(1,9,1)\n",
    "    rotated_img = ndimage.rotate(_map*0.999+0.00001, 90)\n",
    "    plt.imshow(rotated_img)\n",
    "    if history_i==0: plt.gca().set_title(\"Target\")\n",
    "    plt.axis('off')\n",
    "    plt.subplot(1,9,2)\n",
    "    rotated_img = ndimage.rotate(cali_map_numpy[history_i, ..., 0], 90)\n",
    "    plt.imshow(rotated_img, cmap=plt.cm.gray, vmin=0, vmax=1)\n",
    "    if history_i==0: plt.gca().set_title(\"Pre-explored\")\n",
    "    plt.axis('off')\n",
    "    \n",
    "    shown_steps = [2,4,8,16,32,64,128]\n",
    "    for index, i_map in enumerate(shown_steps):\n",
    "        plt.subplot(1,9,index+3)\n",
    "        i_map-=1\n",
    "\n",
    "        map_dict = np.argmax(history_t[i_map, ..., :-1], -1)\n",
    "        _map = np.zeros([map_dict.shape[0], map_dict.shape[1], 3])\n",
    "        for i in range(_map.shape[0]):\n",
    "            for j in range(_map.shape[1]):\n",
    "                if history_t[i_map,i,j,-1]>0.1:\n",
    "                    _map[i,j] = color_map[map_dict[i,j]+1]\n",
    "\n",
    "        rotated_img = ndimage.rotate(_map*0.999+0.00001, 90)\n",
    "        plt.imshow(rotated_img)\n",
    "        if history_i==0: plt.gca().set_title('Step #'+str(i_map+1))\n",
    "        plt.axis('off')\n",
    "    plt.show()"
   ]
  },
  {
   "cell_type": "code",
   "execution_count": 21,
   "metadata": {
    "scrolled": true
   },
   "outputs": [
    {
     "name": "stdout",
     "output_type": "stream",
     "text": [
      "0.6557621502209131\n",
      "0.7531524208975867\n",
      "0.7594786015672091\n",
      "0.7239869964007895\n",
      "0.6608549288617886\n",
      "0.803313364624506\n",
      "0.7698341994555803\n",
      "0.8309084126095878\n",
      "0.8490995998221432\n",
      "0.8345033486645687\n",
      "0.637711708394698\n",
      "0.7593831673297827\n",
      "0.7592224231464738\n",
      "0.7202542668059909\n",
      "0.6776549796747967\n",
      "0.7906913908102767\n",
      "0.7610987379361545\n",
      "0.8126748740906548\n",
      "0.8429116644434563\n",
      "0.8495521665456306\n",
      "0.6487297496318115\n",
      "0.7521038592457541\n",
      "0.7658981314044605\n",
      "0.7331185417392314\n",
      "0.6732405995934959\n",
      "0.7840059906126482\n",
      "0.7914625092798813\n",
      "0.8107162842753217\n",
      "0.8525270490588409\n",
      "0.8260308238521746\n",
      "0.6477724594992637\n",
      "0.7522655218558868\n",
      "0.757157926461724\n",
      "0.7086845466155811\n",
      "0.6781631097560976\n",
      "0.8037302371541502\n",
      "0.7849913387775304\n",
      "0.8409811602313001\n",
      "0.8408366681488069\n",
      "0.8326474622770919\n",
      "0.6371686303387334\n",
      "0.7546500453553434\n",
      "0.776130198915009\n",
      "0.7314582607686057\n",
      "0.667603531504065\n",
      "0.7841681077075099\n",
      "0.7678173719376392\n",
      "0.8002704719268793\n",
      "0.8513598636431007\n",
      "0.8260509965302993\n",
      "0.6548969072164949\n",
      "0.746346874073808\n",
      "0.7728149487643159\n",
      "0.7198827353999768\n",
      "0.6712874745934959\n",
      "0.7975543478260869\n",
      "0.8025736203909923\n",
      "0.80325498974072\n",
      "0.8520082999851786\n",
      "0.8442669248769467\n",
      "0.6425810014727541\n",
      "0.7474201341799664\n",
      "0.7632459312839059\n",
      "0.7100371531406015\n",
      "0.6613471798780488\n",
      "0.8129245923913043\n",
      "0.7700569166048008\n",
      "0.8149132624510352\n",
      "0.8533792796798577\n",
      "0.8254458161865569\n",
      "0.6292893961708395\n",
      "0.749337632361262\n",
      "0.7579716696805304\n",
      "0.7195402298850575\n",
      "0.6765275660569106\n",
      "0.8148005187747036\n",
      "0.8039594159861421\n",
      "0.8467636634956165\n",
      "0.8622165406847487\n",
      "0.8255265068990559\n",
      "0.6346649484536082\n",
      "0.7490547227935299\n",
      "0.7816455696202531\n",
      "0.7287008011145942\n",
      "0.6670954014227642\n",
      "0.7853415266798419\n",
      "0.7579683246721108\n",
      "0.8168718522663683\n",
      "0.8548984733955832\n",
      "0.8229444040990882\n",
      "0.6347938144329897\n",
      "0.7503861940130947\n",
      "0.7637733574442436\n",
      "0.7351793800069663\n",
      "0.668286331300813\n",
      "0.7906836709486166\n",
      "0.7706632021776788\n",
      "0.8242865137101287\n",
      "0.8497480361642211\n",
      "0.8360566448801743\n",
      "---------\n",
      "0.763090055501292\n"
     ]
    }
   ],
   "source": [
    "percentages = []\n",
    "for _ in range(10):\n",
    "    for d_i in range(10):\n",
    "        targets = []\n",
    "        target_is = []\n",
    "        for target_i in range(d_tests[d_i].shape[0]):\n",
    "            target_is.append((d_i, target_i))\n",
    "            target = np.concatenate((d_tests[d_i][target_i:target_i+1], valid_masks[d_i:(d_i+1)]), -1)\n",
    "            targets.append(target)\n",
    "        targets = np.concatenate(targets, 0).astype(np.float32)\n",
    "        _target = torch.from_numpy(targets).to(DEVICE)\n",
    "        \n",
    "        calibration_map = make_circle_masks(_target.size(0), map_size[0], map_size[1],\n",
    "                                            rmin=0.5, rmax=0.5)[..., None]\n",
    "        calibration_map = torch.from_numpy(calibration_map.astype(np.float32)).to(DEVICE)\n",
    "        x0 = np.repeat(seed[None, ...], _target.size(0), 0)*0\n",
    "        x0 = torch.from_numpy(x0.astype(np.float32)).to(DEVICE)\n",
    "\n",
    "        valid_mask_t = valid_masks[[tmp[0] for tmp in target_is]]\n",
    "        valid_mask_t = torch.from_numpy(valid_mask_t.astype(np.float32)).to(DEVICE)\n",
    "\n",
    "        x, history = test(x0, _target, valid_mask_t, calibration_map, N_STEPS)\n",
    "        \n",
    "        hyp = x.detach().cpu().numpy()\n",
    "        hyp = np.argmax(hyp[..., :(ALPHA_CHANNEL+1)], -1)\n",
    "        y = np.argmax(targets, -1)\n",
    "        percentage = np.sum((hyp==y)*alive_maps[d_i][...,0])/(np.sum(alive_maps[d_i])*hyp.shape[0])\n",
    "        percentages.append(percentage)\n",
    "        print(percentage)\n",
    "print(\"---------\")\n",
    "print(np.mean(percentages))"
   ]
  },
  {
   "cell_type": "code",
   "execution_count": 22,
   "metadata": {
    "scrolled": true
   },
   "outputs": [
    {
     "name": "stdout",
     "output_type": "stream",
     "text": [
      "0.6239449097938145\n",
      "0.7395206984273821\n",
      "0.7449635510849909\n",
      "0.6936981162196679\n",
      "0.6618711890243902\n",
      "0.7784322504940712\n",
      "0.705517469376392\n",
      "0.7859103945159485\n",
      "0.8766821712427746\n",
      "0.7884837962962963\n",
      "0.6338635631443299\n",
      "0.7393472479185939\n",
      "0.7378503616636528\n",
      "0.6970266602809706\n",
      "0.6633161839430894\n",
      "0.7776718441205533\n",
      "0.71118109688196\n",
      "0.7701804700615557\n",
      "0.8788046423410405\n",
      "0.7903560729847494\n",
      "0.62277706185567\n",
      "0.7383137719703978\n",
      "0.7385637997287523\n",
      "0.6968590357598978\n",
      "0.6614662728658537\n",
      "0.7817788105237155\n",
      "0.7356973830734966\n",
      "0.7790203553441523\n",
      "0.8808819544797688\n",
      "0.7855108478576616\n",
      "0.6176183956185567\n",
      "0.7480559088806661\n",
      "0.7359643422242315\n",
      "0.70242656449553\n",
      "0.6624587144308943\n",
      "0.7794396924407114\n",
      "0.7270409938752784\n",
      "0.7764234750979295\n",
      "0.8741306900289018\n",
      "0.7857888525780683\n",
      "0.6394249355670103\n",
      "0.7480197733580018\n",
      "0.7491735420433996\n",
      "0.6860791826309067\n",
      "0.6590447154471545\n",
      "0.7800997406126482\n",
      "0.7274063891982183\n",
      "0.7749720201454953\n",
      "0.880915823699422\n",
      "0.7866455610021786\n",
      "0.6187822164948453\n",
      "0.739751965772433\n",
      "0.7371581148282098\n",
      "0.7043702107279693\n",
      "0.6641577743902439\n",
      "0.7760545331027668\n",
      "0.7059437639198218\n",
      "0.7816522104085059\n",
      "0.8817851336705202\n",
      "0.7867930737109659\n",
      "0.6273236146907216\n",
      "0.7434233348751156\n",
      "0.7333154385171791\n",
      "0.6878591954022989\n",
      "0.6558292047764228\n",
      "0.781940927618577\n",
      "0.7243701280623608\n",
      "0.785429490766648\n",
      "0.8803061777456648\n",
      "0.7885121641249092\n",
      "0.6314030283505154\n",
      "0.7412118408880666\n",
      "0.738938178119349\n",
      "0.6993095466155811\n",
      "0.6622205284552846\n",
      "0.7795053112648221\n",
      "0.7059089643652561\n",
      "0.7699531337437046\n",
      "0.8806110007225434\n",
      "0.7922340232389252\n",
      "0.6231636597938144\n",
      "0.740069958371878\n",
      "0.7362257007233273\n",
      "0.6951149425287356\n",
      "0.6629906631097561\n",
      "0.7738080533596838\n",
      "0.7533842566815144\n",
      "0.7854906966983771\n",
      "0.880227149566474\n",
      "0.7922737381989833\n",
      "0.630114368556701\n",
      "0.7404385407030527\n",
      "0.7395315325497287\n",
      "0.6917784163473819\n",
      "0.663427337398374\n",
      "0.7745838994565217\n",
      "0.7389598413140311\n",
      "0.7876329043088975\n",
      "0.8832189306358381\n",
      "0.7880752995642701\n",
      "---------\n",
      "0.7414718541588834\n"
     ]
    }
   ],
   "source": [
    "percentages = []\n",
    "for _ in range(10):\n",
    "    for d_i in range(10):\n",
    "        targets = []\n",
    "        target_is = []\n",
    "        for target_i in range(d_trains[d_i].shape[0]):\n",
    "            target_is.append((d_i, target_i))\n",
    "            target = np.concatenate((d_trains[d_i][target_i:target_i+1], valid_masks[d_i:(d_i+1)]), -1)\n",
    "            targets.append(target)\n",
    "        targets = np.concatenate(targets, 0).astype(np.float32)\n",
    "        _target = torch.from_numpy(targets).to(DEVICE)\n",
    "        \n",
    "        calibration_map = make_circle_masks(_target.size(0), map_size[0], map_size[1],\n",
    "                                            rmin=0.5, rmax=0.5)[..., None]\n",
    "        calibration_map = torch.from_numpy(calibration_map.astype(np.float32)).to(DEVICE)\n",
    "\n",
    "        x0 = np.repeat(seed[None, ...], _target.size(0), 0)*0\n",
    "        x0 = torch.from_numpy(x0.astype(np.float32)).to(DEVICE)\n",
    "\n",
    "        valid_mask_t = valid_masks[[tmp[0] for tmp in target_is]]\n",
    "        valid_mask_t = torch.from_numpy(valid_mask_t.astype(np.float32)).to(DEVICE)\n",
    "\n",
    "        x, history = test(x0, _target, valid_mask_t, calibration_map, N_STEPS)\n",
    "        \n",
    "        hyp = x.detach().cpu().numpy()\n",
    "        hyp = np.argmax(hyp[..., :6], -1)\n",
    "        y = np.argmax(targets, -1)\n",
    "        percentage = np.sum((hyp==y)*alive_maps[d_i][...,0])/(np.sum(alive_maps[d_i])*hyp.shape[0])\n",
    "        percentages.append(percentage)\n",
    "        print(percentage)\n",
    "print(\"---------\")\n",
    "print(np.mean(percentages))"
   ]
  },
  {
   "cell_type": "markdown",
   "metadata": {},
   "source": [
    "## Speed Test"
   ]
  },
  {
   "cell_type": "code",
   "execution_count": 23,
   "metadata": {
    "scrolled": true
   },
   "outputs": [
    {
     "name": "stdout",
     "output_type": "stream",
     "text": [
      "0.03891327977180481\n",
      "0.04005876183509827\n",
      "0.04132132604718208\n",
      "0.04402513429522514\n",
      "0.04346586391329765\n",
      "0.04147135838866234\n",
      "0.03921307995915413\n",
      "0.038483794778585434\n",
      "0.04098214581608772\n",
      "0.044003926217556\n",
      "---------\n",
      "0.04119386710226536\n"
     ]
    }
   ],
   "source": [
    "times = []\n",
    "valid_mask_t = torch.from_numpy(np.ones([1,80,80,1]).astype(np.float32)).to(DEVICE)\n",
    "for d_i in range(10):\n",
    "    _target = torch.from_numpy(d_trains[d_i].astype(np.float32)).to(DEVICE)\n",
    "\n",
    "    calibration_map = make_circle_masks(_target.size(0), map_size[0], map_size[1],\n",
    "                                        rmin=0.5, rmax=0.5)[..., None]\n",
    "    calibration_map = torch.from_numpy(calibration_map.astype(np.float32)).to(DEVICE)\n",
    "\n",
    "    x0 = np.repeat(seed[None, ...], _target.size(0), 0)*0\n",
    "    x0 = torch.from_numpy(x0.astype(np.float32)).to(DEVICE)\n",
    "\n",
    "    start_time = time.time()\n",
    "    x, history = test(x0, _target, valid_mask_t, calibration_map, N_STEPS)\n",
    "    times.append((time.time()-start_time)/_target.size(0))\n",
    "    print(times[-1])\n",
    "print(\"---------\")\n",
    "print(np.mean(times))"
   ]
  },
  {
   "cell_type": "code",
   "execution_count": null,
   "metadata": {},
   "outputs": [],
   "source": []
  }
 ],
 "metadata": {
  "kernelspec": {
   "display_name": "Python [conda env:py37_torch] *",
   "language": "python",
   "name": "conda-env-py37_torch-py"
  },
  "language_info": {
   "codemirror_mode": {
    "name": "ipython",
    "version": 3
   },
   "file_extension": ".py",
   "mimetype": "text/x-python",
   "name": "python",
   "nbconvert_exporter": "python",
   "pygments_lexer": "ipython3",
   "version": "3.7.7"
  }
 },
 "nbformat": 4,
 "nbformat_minor": 4
}
